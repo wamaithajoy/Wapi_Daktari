{
 "cells": [
  {
   "cell_type": "code",
   "execution_count": 62,
   "metadata": {},
   "outputs": [],
   "source": [
    "import pandas as pd\n",
    "from sklearn.model_selection import train_test_split, cross_val_score, GridSearchCV\n",
    "from sklearn.preprocessing import StandardScaler, OneHotEncoder, LabelEncoder\n",
    "from sklearn.compose import ColumnTransformer\n",
    "from sklearn.pipeline import Pipeline\n",
    "from sklearn.ensemble import RandomForestRegressor, RandomForestClassifier, VotingRegressor, VotingClassifier\n",
    "from sklearn.metrics import mean_squared_error, accuracy_score, make_scorer\n",
    "from xgboost import XGBRegressor, XGBClassifier\n",
    "import joblib"
   ]
  },
  {
   "cell_type": "code",
   "execution_count": 63,
   "metadata": {},
   "outputs": [],
   "source": [
    "# Load the dataset\n",
    "df = pd.read_csv('../data/wapi_daktari_healthcare_dataset.csv')"
   ]
  },
  {
   "cell_type": "code",
   "execution_count": 64,
   "metadata": {},
   "outputs": [],
   "source": [
    "# Define features and target\n",
    "features = [\n",
    "    'day_of_week', 'is_weekend', 'is_holiday', 'is_strike_day', 'department', 'time_block',\n",
    "    'doctors_on_shift', 'expected_patients', 'actual_patients', 'waiting_time_minutes',\n",
    "    'peak_hour', 'doctor_available', 'doctor_arrival_delay', 'congestion_level', 'month',\n",
    "    'day', 'patient_load_ratio', 'doctor_patient_ratio', 'holiday_strike_interaction',\n",
    "    'expected_walk_ins', 'emergencies', 'seasonal_illnesses', 'public_holidays_events',\n",
    "    'hour_of_day', 'day_of_month', 'quarter', 'season', 'previous_day_patients',\n",
    "    'previous_week_patients', 'previous_month_patients', 'temperature', 'humidity', 'rainfall',\n",
    "    'school_holidays', 'national_events', 'average_waiting_time_last_week', 'average_patients_last_month',\n",
    "    'previous_day_waiting_time', 'previous_week_waiting_time', 'previous_month_waiting_time',\n",
    "    'doctors_on_shift_expected_patients', 'doctor_patient_ratio_congestion_level',\n",
    "    'flu_season', 'malaria_season'\n",
    "]\n",
    "target_regression = 'waiting_time_minutes'\n",
    "target_classification = 'congestion_level'\n",
    "\n",
    "# Define the preprocessing pipeline\n",
    "categorical_features = ['department', 'time_block', 'congestion_level', 'season', 'peak_hour', 'doctor_available', ]\n",
    "numerical_features = [\n",
    "    'day_of_week', 'is_weekend', 'is_holiday', 'is_strike_day',\n",
    "    'doctors_on_shift', 'expected_patients', 'actual_patients', 'waiting_time_minutes', 'doctor_arrival_delay', 'month',\n",
    "    'day', 'patient_load_ratio', 'doctor_patient_ratio', 'holiday_strike_interaction',\n",
    "    'expected_walk_ins', 'emergencies', 'seasonal_illnesses', 'public_holidays_events',\n",
    "    'hour_of_day', 'day_of_month', 'quarter', 'previous_day_patients',\n",
    "    'previous_week_patients', 'previous_month_patients', 'temperature', 'humidity', 'rainfall',\n",
    "    'school_holidays', 'national_events', 'average_waiting_time_last_week', 'average_patients_last_month',\n",
    "    'previous_day_waiting_time', 'previous_week_waiting_time', 'previous_month_waiting_time',\n",
    "    'doctors_on_shift_expected_patients', 'doctor_patient_ratio_congestion_level',\n",
    "    'flu_season', 'malaria_season'\n",
    "]\n",
    "\n",
    "preprocessor = ColumnTransformer(\n",
    "    transformers=[\n",
    "        ('num', StandardScaler(), numerical_features),\n",
    "        ('cat', OneHotEncoder(), categorical_features)\n",
    "    ])\n",
    "# Encode the target variable for classification\n",
    "label_encoder = LabelEncoder()\n",
    "df[target_classification] = label_encoder.fit_transform(df[target_classification])\n",
    "\n",
    "# Split the data for regression\n",
    "X_train_reg, X_test_reg, y_train_reg, y_test_reg = train_test_split(df[features], df[target_regression], test_size=0.2, random_state=42)\n",
    "\n",
    "# Split the data for classification\n",
    "X_train_class, X_test_class, y_train_class, y_test_class = train_test_split(df[features], df[target_classification], test_size=0.2, random_state=42)\n",
    "\n",
    "# Preprocess the data\n",
    "X_train_reg_scaled = preprocessor.fit_transform(X_train_reg)\n",
    "X_test_reg_scaled = preprocessor.transform(X_test_reg)\n",
    "X_train_class_scaled = preprocessor.fit_transform(X_train_class)\n",
    "X_test_class_scaled = preprocessor.transform(X_test_class)"
   ]
  },
  {
   "cell_type": "code",
   "execution_count": 65,
   "metadata": {},
   "outputs": [],
   "source": [
    "# Define a function to perform cross-validation\n",
    "def evaluate_model(model, X_train, y_train, X_test, y_test):\n",
    "    model.fit(X_train, y_train)\n",
    "    train_score = model.score(X_train, y_train)\n",
    "    test_score = model.score(X_test, y_test)\n",
    "    cv_scores = cross_val_score(model, X_train, y_train, cv=5, scoring=make_scorer(mean_squared_error))\n",
    "    return train_score, test_score, cv_scores"
   ]
  },
  {
   "cell_type": "code",
   "execution_count": 66,
   "metadata": {},
   "outputs": [
    {
     "name": "stdout",
     "output_type": "stream",
     "text": [
      "RandomForest Regressor - Train Score: 1.0, Test Score: 1.0, CV Scores: [0. 0. 0. 0. 0.]\n"
     ]
    }
   ],
   "source": [
    "# Train and evaluate a RandomForest Regressor with hyperparameter tuning\n",
    "rf_regressor = RandomForestRegressor(random_state=42)\n",
    "param_grid_rf = {\n",
    "    'n_estimators': [100, 200],\n",
    "    'max_depth': [10, 20],\n",
    "    'min_samples_split': [2, 5],\n",
    "    'min_samples_leaf': [1, 2]\n",
    "}\n",
    "grid_search_rf = GridSearchCV(estimator=rf_regressor, param_grid=param_grid_rf, cv=5, scoring='neg_mean_squared_error')\n",
    "grid_search_rf.fit(X_train_reg_scaled, y_train_reg)\n",
    "best_rf_regressor = grid_search_rf.best_estimator_\n",
    "train_score_rf_reg, test_score_rf_reg, cv_scores_rf_reg = evaluate_model(best_rf_regressor, X_train_reg_scaled, y_train_reg, X_test_reg_scaled, y_test_reg)\n",
    "print(f'RandomForest Regressor - Train Score: {train_score_rf_reg}, Test Score: {test_score_rf_reg}, CV Scores: {cv_scores_rf_reg}')"
   ]
  },
  {
   "cell_type": "code",
   "execution_count": 67,
   "metadata": {},
   "outputs": [
    {
     "name": "stdout",
     "output_type": "stream",
     "text": [
      "XGBoost Regressor - Train Score: 1.0, Test Score: 1.0, CV Scores: [4.22088614e-10 4.98903918e-10 5.24443711e-10 5.01436392e-10\n",
      " 4.33945269e-10]\n"
     ]
    }
   ],
   "source": [
    "# Train and evaluate an XGBoost Regressor with hyperparameter tuning\n",
    "xgb_regressor = XGBRegressor(random_state=42)\n",
    "param_grid_xgb = {\n",
    "    'n_estimators': [100, 200],\n",
    "    'max_depth': [3, 5],\n",
    "    'learning_rate': [0.01, 0.1]\n",
    "}\n",
    "grid_search_xgb = GridSearchCV(estimator=xgb_regressor, param_grid=param_grid_xgb, cv=5, scoring='neg_mean_squared_error')\n",
    "grid_search_xgb.fit(X_train_reg_scaled, y_train_reg)\n",
    "best_xgb_regressor = grid_search_xgb.best_estimator_\n",
    "train_score_xgb_reg, test_score_xgb_reg, cv_scores_xgb_reg = evaluate_model(best_xgb_regressor, X_train_reg_scaled, y_train_reg, X_test_reg_scaled, y_test_reg)\n",
    "print(f'XGBoost Regressor - Train Score: {train_score_xgb_reg}, Test Score: {test_score_xgb_reg}, CV Scores: {cv_scores_xgb_reg}')"
   ]
  },
  {
   "cell_type": "code",
   "execution_count": 68,
   "metadata": {},
   "outputs": [
    {
     "name": "stdout",
     "output_type": "stream",
     "text": [
      "Hybrid Regressor - Train Score: 0.9999999999998135, Test Score: 0.9999999999998115, CV Scores: [1.05522150e-10 1.24725985e-10 1.31110929e-10 1.25359102e-10\n",
      " 1.08486314e-10]\n"
     ]
    }
   ],
   "source": [
    "# Train and evaluate a Hybrid Regressor (Voting Regressor)\n",
    "hybrid_regressor = VotingRegressor(estimators=[('rf', best_rf_regressor), ('xgb', best_xgb_regressor)])\n",
    "train_score_hybrid_reg, test_score_hybrid_reg, cv_scores_hybrid_reg = evaluate_model(hybrid_regressor, X_train_reg_scaled, y_train_reg, X_test_reg_scaled, y_test_reg)\n",
    "print(f'Hybrid Regressor - Train Score: {train_score_hybrid_reg}, Test Score: {test_score_hybrid_reg}, CV Scores: {cv_scores_hybrid_reg}')"
   ]
  },
  {
   "cell_type": "code",
   "execution_count": 69,
   "metadata": {},
   "outputs": [
    {
     "name": "stdout",
     "output_type": "stream",
     "text": [
      "RandomForest Classifier - Train Score: 1.0, Test Score: 1.0, CV Scores: [0. 0. 0. 0. 0.]\n"
     ]
    }
   ],
   "source": [
    "# Train and evaluate a RandomForest Classifier with hyperparameter tuning\n",
    "rf_classifier = RandomForestClassifier(random_state=42)\n",
    "param_grid_rf_class = {\n",
    "    'n_estimators': [100, 200],\n",
    "    'max_depth': [10, 20],\n",
    "    'min_samples_split': [2, 5],\n",
    "    'min_samples_leaf': [1, 2]\n",
    "}\n",
    "grid_search_rf_class = GridSearchCV(estimator=rf_classifier, param_grid=param_grid_rf_class, cv=5, scoring='accuracy')\n",
    "grid_search_rf_class.fit(X_train_class_scaled, y_train_class)\n",
    "best_rf_classifier = grid_search_rf_class.best_estimator_\n",
    "train_score_rf_class, test_score_rf_class, cv_scores_rf_class = evaluate_model(best_rf_classifier, X_train_class_scaled, y_train_class, X_test_class_scaled, y_test_class)\n",
    "print(f'RandomForest Classifier - Train Score: {train_score_rf_class}, Test Score: {test_score_rf_class}, CV Scores: {cv_scores_rf_class}')"
   ]
  },
  {
   "cell_type": "code",
   "execution_count": 70,
   "metadata": {},
   "outputs": [
    {
     "name": "stdout",
     "output_type": "stream",
     "text": [
      "XGBoost Classifier - Train Score: 1.0, Test Score: 1.0, CV Scores: [0. 0. 0. 0. 0.]\n"
     ]
    }
   ],
   "source": [
    "# Train and evaluate an XGBoost Classifier with hyperparameter tuning\n",
    "xgb_classifier = XGBClassifier(random_state=42)\n",
    "param_grid_xgb_class = {\n",
    "    'n_estimators': [100, 200],\n",
    "    'max_depth': [3, 5],\n",
    "    'learning_rate': [0.01, 0.1]\n",
    "}\n",
    "grid_search_xgb_class = GridSearchCV(estimator=xgb_classifier, param_grid=param_grid_xgb_class, cv=5, scoring='accuracy')\n",
    "grid_search_xgb_class.fit(X_train_class_scaled, y_train_class)\n",
    "best_xgb_classifier = grid_search_xgb_class.best_estimator_\n",
    "train_score_xgb_class, test_score_xgb_class, cv_scores_xgb_class = evaluate_model(best_xgb_classifier, X_train_class_scaled, y_train_class, X_test_class_scaled, y_test_class)\n",
    "print(f'XGBoost Classifier - Train Score: {train_score_xgb_class}, Test Score: {test_score_xgb_class}, CV Scores: {cv_scores_xgb_class}')"
   ]
  },
  {
   "cell_type": "code",
   "execution_count": 71,
   "metadata": {},
   "outputs": [
    {
     "name": "stdout",
     "output_type": "stream",
     "text": [
      "Hybrid Classifier - Train Score: 1.0, Test Score: 1.0, CV Scores: [0. 0. 0. 0. 0.]\n"
     ]
    }
   ],
   "source": [
    "# Train and evaluate a Hybrid Classifier (Voting Classifier)\n",
    "hybrid_classifier = VotingClassifier(estimators=[('rf', best_rf_classifier), ('xgb', best_xgb_classifier)])\n",
    "train_score_hybrid_class, test_score_hybrid_class, cv_scores_hybrid_class = evaluate_model(hybrid_classifier, X_train_class_scaled, y_train_class, X_test_class_scaled, y_test_class)\n",
    "print(f'Hybrid Classifier - Train Score: {train_score_hybrid_class}, Test Score: {test_score_hybrid_class}, CV Scores: {cv_scores_hybrid_class}')"
   ]
  }
 ],
 "metadata": {
  "kernelspec": {
   "display_name": "venv",
   "language": "python",
   "name": "python3"
  },
  "language_info": {
   "codemirror_mode": {
    "name": "ipython",
    "version": 3
   },
   "file_extension": ".py",
   "mimetype": "text/x-python",
   "name": "python",
   "nbconvert_exporter": "python",
   "pygments_lexer": "ipython3",
   "version": "3.9.7"
  }
 },
 "nbformat": 4,
 "nbformat_minor": 2
}
